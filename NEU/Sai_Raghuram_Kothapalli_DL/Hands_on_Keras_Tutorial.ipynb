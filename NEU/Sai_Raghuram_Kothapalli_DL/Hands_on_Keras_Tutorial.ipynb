{
 "cells": [
  {
   "cell_type": "code",
   "execution_count": 1,
   "metadata": {},
   "outputs": [],
   "source": [
    "import tensorflow as tf"
   ]
  },
  {
   "cell_type": "code",
   "execution_count": 2,
   "metadata": {},
   "outputs": [],
   "source": [
    "import numpy as np"
   ]
  },
  {
   "cell_type": "code",
   "execution_count": 4,
   "metadata": {},
   "outputs": [
    {
     "name": "stdout",
     "output_type": "stream",
     "text": [
      "Collecting keras\n",
      "  Downloading Keras-2.0.9-py2.py3-none-any.whl (299kB)\n",
      "Collecting scipy>=0.14 (from keras)\n",
      "  Downloading scipy-1.0.0-cp35-none-win_amd64.whl (30.8MB)\n",
      "Requirement already satisfied: numpy>=1.9.1 in c:\\users\\raghu\\anaconda3\\envs\\tensorflow\\lib\\site-packages (from keras)\n",
      "Collecting pyyaml (from keras)\n",
      "  Downloading PyYAML-3.12-cp35-cp35m-win_amd64.whl (195kB)\n",
      "Requirement already satisfied: six>=1.9.0 in c:\\users\\raghu\\anaconda3\\envs\\tensorflow\\lib\\site-packages (from keras)\n",
      "Installing collected packages: scipy, pyyaml, keras\n",
      "Successfully installed keras-2.0.9 pyyaml-3.12 scipy-1.0.0\n"
     ]
    }
   ],
   "source": [
    "!pip install keras"
   ]
  },
  {
   "cell_type": "code",
   "execution_count": 16,
   "metadata": {},
   "outputs": [],
   "source": [
    "import keras"
   ]
  },
  {
   "cell_type": "code",
   "execution_count": 6,
   "metadata": {},
   "outputs": [],
   "source": [
    "from keras.models import Sequential\n",
    "\n",
    "model = Sequential()"
   ]
  },
  {
   "cell_type": "markdown",
   "metadata": {},
   "source": [
    "The Sequential model is a linear stack of layers.\n",
    "\n",
    "You can create a Sequential model by passing a list of layer instances to the constructor:"
   ]
  },
  {
   "cell_type": "code",
   "execution_count": 7,
   "metadata": {},
   "outputs": [],
   "source": [
    "from keras.models import Sequential\n",
    "from keras.layers import Dense, Activation\n",
    "\n",
    "model = Sequential([\n",
    "    Dense(32, input_shape=(784,)),\n",
    "    Activation('relu'),\n",
    "    Dense(10),\n",
    "    Activation('softmax'),\n",
    "])"
   ]
  },
  {
   "cell_type": "markdown",
   "metadata": {},
   "source": [
    "You can also simply add layers via the .add() method:"
   ]
  },
  {
   "cell_type": "code",
   "execution_count": 8,
   "metadata": {},
   "outputs": [],
   "source": [
    "model = Sequential()\n",
    "model.add(Dense(32, input_dim=784))\n",
    "model.add(Activation('relu'))\n"
   ]
  },
  {
   "cell_type": "markdown",
   "metadata": {},
   "source": [
    "## Specifying the input shape"
   ]
  },
  {
   "cell_type": "markdown",
   "metadata": {},
   "source": [
    "\n",
    "The model needs to know what input shape it should expect. For this reason, the first layer in a Sequential model (and only the first, because following layers can do automatic shape inference) needs to receive information about its input shape. There are several possible ways to do this:\n",
    "\n",
    "Pass an input_shape argument to the first layer. This is a shape tuple (a tuple of integers or None entries, where None indicates that any positive integer may be expected). In input_shape, the batch dimension is not included.\n",
    "Some 2D layers, such as Dense, support the specification of their input shape via the argument input_dim, and some 3D temporal layers support the arguments input_dim and input_length.\n",
    "If you ever need to specify a fixed batch size for your inputs (this is useful for stateful recurrent networks), you can pass a  batch_size argument to a layer. If you pass both batch_size=32 and input_shape=(6, 8) to a layer, it will then expect every batch of inputs to have the batch shape (32, 6, 8).\n",
    "As such, the following snippets are strictly equivalent:\n"
   ]
  },
  {
   "cell_type": "code",
   "execution_count": 9,
   "metadata": {},
   "outputs": [],
   "source": [
    "model = Sequential()\n",
    "model.add(Dense(32, input_shape=(784,)))\n",
    "model = Sequential()\n",
    "model.add(Dense(32, input_dim=784))\n"
   ]
  },
  {
   "cell_type": "markdown",
   "metadata": {},
   "source": [
    "## Compilation"
   ]
  },
  {
   "cell_type": "markdown",
   "metadata": {},
   "source": [
    "Before training a model, you need to configure the learning process, which is done via the compile method. It receives three arguments:\n",
    "\n",
    "1. An optimizer. This could be the string identifier of an existing optimizer (such as rmsprop or adagrad), or an instance of the  Optimizer class. See: optimizers.\n",
    "2. A loss function. This is the objective that the model will try to minimize. It can be the string identifier of an existing loss function (such as categorical_crossentropy or mse), or it can be an objective function. See: losses.\n",
    "3. A list of metrics. For any classification problem you will want to set this to metrics=['accuracy']. A metric could be the string identifier of an existing metric or a custom metric function.\n"
   ]
  },
  {
   "cell_type": "code",
   "execution_count": 10,
   "metadata": {},
   "outputs": [],
   "source": [
    "# For a multi-class classification problem\n",
    "model.compile(optimizer='rmsprop',\n",
    "              loss='categorical_crossentropy',\n",
    "              metrics=['accuracy'])\n",
    "\n",
    "# For a binary classification problem\n",
    "model.compile(optimizer='rmsprop',\n",
    "              loss='binary_crossentropy',\n",
    "              metrics=['accuracy'])\n",
    "\n",
    "# For a mean squared error regression problem\n",
    "model.compile(optimizer='rmsprop',\n",
    "              loss='mse')\n",
    "\n",
    "# For custom metrics\n",
    "import keras.backend as K\n",
    "\n",
    "def mean_pred(y_true, y_pred):\n",
    "    return K.mean(y_pred)\n",
    "\n",
    "model.compile(optimizer='rmsprop',\n",
    "              loss='binary_crossentropy',\n",
    "              metrics=['accuracy', mean_pred])\n"
   ]
  },
  {
   "cell_type": "markdown",
   "metadata": {},
   "source": [
    "## Training "
   ]
  },
  {
   "cell_type": "markdown",
   "metadata": {},
   "source": [
    "Keras models are trained on Numpy arrays of input data and labels. For training a model, you will typically use the  fit function. Read its documentation here.\n"
   ]
  },
  {
   "cell_type": "code",
   "execution_count": 12,
   "metadata": {},
   "outputs": [
    {
     "name": "stdout",
     "output_type": "stream",
     "text": [
      "Epoch 1/10\n",
      "1000/1000 [==============================] - 0s 488us/step - loss: 0.7112 - acc: 0.5020\n",
      "Epoch 2/10\n",
      "1000/1000 [==============================] - 0s 80us/step - loss: 0.6919 - acc: 0.5380\n",
      "Epoch 3/10\n",
      "1000/1000 [==============================] - 0s 84us/step - loss: 0.6867 - acc: 0.5430\n",
      "Epoch 4/10\n",
      "1000/1000 [==============================] - 0s 71us/step - loss: 0.6794 - acc: 0.5530\n",
      "Epoch 5/10\n",
      "1000/1000 [==============================] - 0s 70us/step - loss: 0.6732 - acc: 0.5690\n",
      "Epoch 6/10\n",
      "1000/1000 [==============================] - 0s 81us/step - loss: 0.6705 - acc: 0.5880\n",
      "Epoch 7/10\n",
      "1000/1000 [==============================] - 0s 85us/step - loss: 0.6652 - acc: 0.5780\n",
      "Epoch 8/10\n",
      "1000/1000 [==============================] - 0s 100us/step - loss: 0.6593 - acc: 0.5980\n",
      "Epoch 9/10\n",
      "1000/1000 [==============================] - 0s 93us/step - loss: 0.6549 - acc: 0.6000\n",
      "Epoch 10/10\n",
      "1000/1000 [==============================] - 0s 85us/step - loss: 0.6512 - acc: 0.6140\n"
     ]
    },
    {
     "data": {
      "text/plain": [
       "<keras.callbacks.History at 0x1a7ab4552e8>"
      ]
     },
     "execution_count": 12,
     "metadata": {},
     "output_type": "execute_result"
    }
   ],
   "source": [
    "# For a single-input model with 2 classes (binary classification):\n",
    "\n",
    "model = Sequential()\n",
    "model.add(Dense(32, activation='relu', input_dim=100))\n",
    "model.add(Dense(1, activation='sigmoid'))\n",
    "model.compile(optimizer='rmsprop',\n",
    "              loss='binary_crossentropy',\n",
    "              metrics=['accuracy'])\n",
    "\n",
    "# Generate dummy data\n",
    "import numpy as np\n",
    "data = np.random.random((1000, 100))\n",
    "labels = np.random.randint(2, size=(1000, 1))\n",
    "\n",
    "# Train the model, iterating on the data in batches of 32 samples\n",
    "model.fit(data, labels, epochs=10, batch_size=32)\n"
   ]
  },
  {
   "cell_type": "code",
   "execution_count": 11,
   "metadata": {},
   "outputs": [
    {
     "name": "stdout",
     "output_type": "stream",
     "text": [
      "Epoch 1/10\n",
      "1000/1000 [==============================] - 1s 768us/step - loss: 2.3443 - acc: 0.0850\n",
      "Epoch 2/10\n",
      "1000/1000 [==============================] - 0s 82us/step - loss: 2.3188 - acc: 0.1120\n",
      "Epoch 3/10\n",
      "1000/1000 [==============================] - 0s 70us/step - loss: 2.3071 - acc: 0.1290\n",
      "Epoch 4/10\n",
      "1000/1000 [==============================] - 0s 69us/step - loss: 2.2932 - acc: 0.1290\n",
      "Epoch 5/10\n",
      "1000/1000 [==============================] - 0s 64us/step - loss: 2.2866 - acc: 0.1350\n",
      "Epoch 6/10\n",
      "1000/1000 [==============================] - 0s 70us/step - loss: 2.2759 - acc: 0.1400\n",
      "Epoch 7/10\n",
      "1000/1000 [==============================] - 0s 70us/step - loss: 2.2711 - acc: 0.1340\n",
      "Epoch 8/10\n",
      "1000/1000 [==============================] - 0s 88us/step - loss: 2.2615 - acc: 0.1600\n",
      "Epoch 9/10\n",
      "1000/1000 [==============================] - 0s 76us/step - loss: 2.2542 - acc: 0.1680\n",
      "Epoch 10/10\n",
      "1000/1000 [==============================] - 0s 80us/step - loss: 2.2431 - acc: 0.1750\n"
     ]
    },
    {
     "data": {
      "text/plain": [
       "<keras.callbacks.History at 0x1a7aa0d8d68>"
      ]
     },
     "execution_count": 11,
     "metadata": {},
     "output_type": "execute_result"
    }
   ],
   "source": [
    "# For a single-input model with 10 classes (categorical classification):\n",
    "\n",
    "model = Sequential()\n",
    "model.add(Dense(32, activation='relu', input_dim=100))\n",
    "model.add(Dense(10, activation='softmax'))\n",
    "model.compile(optimizer='rmsprop',\n",
    "              loss='categorical_crossentropy',\n",
    "              metrics=['accuracy'])\n",
    "\n",
    "# Generate dummy data\n",
    "import numpy as np\n",
    "data = np.random.random((1000, 100))\n",
    "labels = np.random.randint(10, size=(1000, 1))\n",
    "\n",
    "# Convert labels to categorical one-hot encoding\n",
    "one_hot_labels = keras.utils.to_categorical(labels, num_classes=10)\n",
    "\n",
    "# Train the model, iterating on the data in batches of 32 samples\n",
    "model.fit(data, one_hot_labels, epochs=10, batch_size=32)\n"
   ]
  },
  {
   "cell_type": "markdown",
   "metadata": {},
   "source": [
    "## Examples\n"
   ]
  },
  {
   "cell_type": "markdown",
   "metadata": {},
   "source": [
    "Here are a few examples to get you started!\n"
   ]
  },
  {
   "cell_type": "markdown",
   "metadata": {},
   "source": [
    "## Multilayer Perceptron (MLP) for multi-class softmax classification:"
   ]
  },
  {
   "cell_type": "code",
   "execution_count": 14,
   "metadata": {},
   "outputs": [
    {
     "name": "stdout",
     "output_type": "stream",
     "text": [
      "Epoch 1/20\n",
      "1000/1000 [==============================] - 0s 345us/step - loss: 2.3904 - acc: 0.1090\n",
      "Epoch 2/20\n",
      "1000/1000 [==============================] - 0s 36us/step - loss: 2.3497 - acc: 0.0990\n",
      "Epoch 3/20\n",
      "1000/1000 [==============================] - 0s 33us/step - loss: 2.3221 - acc: 0.0990\n",
      "Epoch 4/20\n",
      "1000/1000 [==============================] - 0s 42us/step - loss: 2.3251 - acc: 0.0890\n",
      "Epoch 5/20\n",
      "1000/1000 [==============================] - 0s 37us/step - loss: 2.3126 - acc: 0.0970\n",
      "Epoch 6/20\n",
      "1000/1000 [==============================] - 0s 26us/step - loss: 2.3123 - acc: 0.1180\n",
      "Epoch 7/20\n",
      "1000/1000 [==============================] - 0s 37us/step - loss: 2.3015 - acc: 0.1210\n",
      "Epoch 8/20\n",
      "1000/1000 [==============================] - 0s 41us/step - loss: 2.3053 - acc: 0.1070\n",
      "Epoch 9/20\n",
      "1000/1000 [==============================] - 0s 30us/step - loss: 2.3066 - acc: 0.1010\n",
      "Epoch 10/20\n",
      "1000/1000 [==============================] - 0s 35us/step - loss: 2.3095 - acc: 0.1170\n",
      "Epoch 11/20\n",
      "1000/1000 [==============================] - 0s 39us/step - loss: 2.3060 - acc: 0.1030\n",
      "Epoch 12/20\n",
      "1000/1000 [==============================] - 0s 38us/step - loss: 2.3000 - acc: 0.1120\n",
      "Epoch 13/20\n",
      "1000/1000 [==============================] - 0s 34us/step - loss: 2.3026 - acc: 0.1090\n",
      "Epoch 14/20\n",
      "1000/1000 [==============================] - 0s 28us/step - loss: 2.3001 - acc: 0.1070\n",
      "Epoch 15/20\n",
      "1000/1000 [==============================] - 0s 42us/step - loss: 2.3046 - acc: 0.1150\n",
      "Epoch 16/20\n",
      "1000/1000 [==============================] - 0s 41us/step - loss: 2.3105 - acc: 0.1070\n",
      "Epoch 17/20\n",
      "1000/1000 [==============================] - 0s 26us/step - loss: 2.3006 - acc: 0.1080\n",
      "Epoch 18/20\n",
      "1000/1000 [==============================] - 0s 36us/step - loss: 2.2919 - acc: 0.1150\n",
      "Epoch 19/20\n",
      "1000/1000 [==============================] - 0s 37us/step - loss: 2.2935 - acc: 0.1330\n",
      "Epoch 20/20\n",
      "1000/1000 [==============================] - 0s 34us/step - loss: 2.2957 - acc: 0.1170\n",
      "100/100 [==============================] - 0s 371us/step\n"
     ]
    }
   ],
   "source": [
    "import keras\n",
    "from keras.models import Sequential\n",
    "from keras.layers import Dense, Dropout, Activation\n",
    "from keras.optimizers import SGD\n",
    "\n",
    "# Generate dummy data\n",
    "import numpy as np\n",
    "x_train = np.random.random((1000, 20))\n",
    "y_train = keras.utils.to_categorical(np.random.randint(10, size=(1000, 1)), num_classes=10)\n",
    "x_test = np.random.random((100, 20))\n",
    "y_test = keras.utils.to_categorical(np.random.randint(10, size=(100, 1)), num_classes=10)\n",
    "\n",
    "model = Sequential()\n",
    "# Dense(64) is a fully-connected layer with 64 hidden units.\n",
    "# in the first layer, you must specify the expected input data shape:\n",
    "# here, 20-dimensional vectors.\n",
    "model.add(Dense(64, activation='relu', input_dim=20))\n",
    "model.add(Dropout(0.5))\n",
    "model.add(Dense(64, activation='relu'))\n",
    "model.add(Dropout(0.5))\n",
    "model.add(Dense(10, activation='softmax'))\n",
    "\n",
    "sgd = SGD(lr=0.01, decay=1e-6, momentum=0.9, nesterov=True)\n",
    "model.compile(loss='categorical_crossentropy',\n",
    "              optimizer=sgd,\n",
    "              metrics=['accuracy'])\n",
    "\n",
    "model.fit(x_train, y_train,\n",
    "          epochs=20,\n",
    "          batch_size=128)\n",
    "score = model.evaluate(x_test, y_test, batch_size=128)\n",
    "\n"
   ]
  },
  {
   "cell_type": "markdown",
   "metadata": {},
   "source": [
    "## MLP for binary classification:"
   ]
  },
  {
   "cell_type": "code",
   "execution_count": 15,
   "metadata": {},
   "outputs": [
    {
     "name": "stdout",
     "output_type": "stream",
     "text": [
      "Epoch 1/20\n",
      "1000/1000 [==============================] - 0s 453us/step - loss: 0.7288 - acc: 0.4870\n",
      "Epoch 2/20\n",
      "1000/1000 [==============================] - 0s 26us/step - loss: 0.7118 - acc: 0.4990\n",
      "Epoch 3/20\n",
      "1000/1000 [==============================] - 0s 35us/step - loss: 0.7021 - acc: 0.4970\n",
      "Epoch 4/20\n",
      "1000/1000 [==============================] - 0s 33us/step - loss: 0.7006 - acc: 0.5300\n",
      "Epoch 5/20\n",
      "1000/1000 [==============================] - 0s 38us/step - loss: 0.7159 - acc: 0.4870\n",
      "Epoch 6/20\n",
      "1000/1000 [==============================] - 0s 32us/step - loss: 0.7054 - acc: 0.5020\n",
      "Epoch 7/20\n",
      "1000/1000 [==============================] - 0s 36us/step - loss: 0.7080 - acc: 0.5080\n",
      "Epoch 8/20\n",
      "1000/1000 [==============================] - 0s 33us/step - loss: 0.7024 - acc: 0.5120\n",
      "Epoch 9/20\n",
      "1000/1000 [==============================] - 0s 28us/step - loss: 0.6989 - acc: 0.5200\n",
      "Epoch 10/20\n",
      "1000/1000 [==============================] - 0s 39us/step - loss: 0.7015 - acc: 0.5030\n",
      "Epoch 11/20\n",
      "1000/1000 [==============================] - 0s 31us/step - loss: 0.6973 - acc: 0.5160\n",
      "Epoch 12/20\n",
      "1000/1000 [==============================] - 0s 37us/step - loss: 0.6905 - acc: 0.5250\n",
      "Epoch 13/20\n",
      "1000/1000 [==============================] - 0s 36us/step - loss: 0.6943 - acc: 0.5290\n",
      "Epoch 14/20\n",
      "1000/1000 [==============================] - 0s 40us/step - loss: 0.6951 - acc: 0.5010\n",
      "Epoch 15/20\n",
      "1000/1000 [==============================] - 0s 34us/step - loss: 0.6947 - acc: 0.5180\n",
      "Epoch 16/20\n",
      "1000/1000 [==============================] - 0s 34us/step - loss: 0.6911 - acc: 0.5310\n",
      "Epoch 17/20\n",
      "1000/1000 [==============================] - 0s 36us/step - loss: 0.6910 - acc: 0.5260\n",
      "Epoch 18/20\n",
      "1000/1000 [==============================] - 0s 31us/step - loss: 0.6908 - acc: 0.5300\n",
      "Epoch 19/20\n",
      "1000/1000 [==============================] - 0s 33us/step - loss: 0.6908 - acc: 0.5390\n",
      "Epoch 20/20\n",
      "1000/1000 [==============================] - 0s 33us/step - loss: 0.6936 - acc: 0.5280\n",
      "100/100 [==============================] - 0s 651us/step\n"
     ]
    }
   ],
   "source": [
    "import numpy as np\n",
    "from keras.models import Sequential\n",
    "from keras.layers import Dense, Dropout\n",
    "\n",
    "# Generate dummy data\n",
    "x_train = np.random.random((1000, 20))\n",
    "y_train = np.random.randint(2, size=(1000, 1))\n",
    "x_test = np.random.random((100, 20))\n",
    "y_test = np.random.randint(2, size=(100, 1))\n",
    "\n",
    "model = Sequential()\n",
    "model.add(Dense(64, input_dim=20, activation='relu'))\n",
    "model.add(Dropout(0.5))\n",
    "model.add(Dense(64, activation='relu'))\n",
    "model.add(Dropout(0.5))\n",
    "model.add(Dense(1, activation='sigmoid'))\n",
    "\n",
    "model.compile(loss='binary_crossentropy',\n",
    "              optimizer='rmsprop',\n",
    "              metrics=['accuracy'])\n",
    "\n",
    "model.fit(x_train, y_train,\n",
    "          epochs=20,\n",
    "          batch_size=128)\n",
    "score = model.evaluate(x_test, y_test, batch_size=128)\n"
   ]
  },
  {
   "cell_type": "code",
   "execution_count": null,
   "metadata": {},
   "outputs": [],
   "source": []
  },
  {
   "cell_type": "code",
   "execution_count": null,
   "metadata": {},
   "outputs": [],
   "source": []
  },
  {
   "cell_type": "code",
   "execution_count": null,
   "metadata": {},
   "outputs": [],
   "source": []
  },
  {
   "cell_type": "markdown",
   "metadata": {},
   "source": []
  }
 ],
 "metadata": {
  "kernelspec": {
   "display_name": "Python 3",
   "language": "python",
   "name": "python3"
  },
  "language_info": {
   "codemirror_mode": {
    "name": "ipython",
    "version": 3
   },
   "file_extension": ".py",
   "mimetype": "text/x-python",
   "name": "python",
   "nbconvert_exporter": "python",
   "pygments_lexer": "ipython3",
   "version": "3.5.4"
  }
 },
 "nbformat": 4,
 "nbformat_minor": 2
}
