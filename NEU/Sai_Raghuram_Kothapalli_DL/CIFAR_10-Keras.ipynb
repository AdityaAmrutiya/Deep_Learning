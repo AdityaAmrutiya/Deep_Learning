{
 "cells": [
  {
   "cell_type": "markdown",
   "metadata": {},
   "source": [
    "# Object recognition with CNN"
   ]
  },
  {
   "cell_type": "markdown",
   "metadata": {},
   "source": [
    "Keras is a Python library for deep learning that wraps the powerful numerical libraries Theano and TensorFlow.\n",
    "\n",
    "A difficult problem where traditional neural networks fall down is called object recognition. It is where a model is able to identify the objects in images.\n",
    "\n",
    "In this post, we will discover how to develop and evaluate deep learning models for object recognition in Keras. After completing this tutorial we will know:\n",
    "\n",
    "1. About the CIFAR-10 object recognition dataset and how to load and use it in Keras.\n",
    "2. How to create a simple Convolutional Neural Network for object recognition.\n",
    "3. How to lift performance by creating deeper Convolutional Neural Networks.\n"
   ]
  },
  {
   "cell_type": "markdown",
   "metadata": {},
   "source": [
    "### The CIFAR-10 Problem Description"
   ]
  },
  {
   "cell_type": "markdown",
   "metadata": {},
   "source": [
    "The problem of automatically identifying objects in photographs is difficult because of the near infinite number of permutations of objects, positions, lighting and so on. It’s a really hard problem.\n",
    "\n",
    "This is a well-studied problem in computer vision and more recently an important demonstration of the capability of deep learning. A standard computer vision and deep learning dataset for this problem was developed by the Canadian Institute for Advanced Research (CIFAR).\n",
    "\n",
    "The CIFAR-10 dataset consists of 60,000 photos divided into 10 classes (hence the name CIFAR-10). Classes include common objects such as airplanes, automobiles, birds, cats and so on. The dataset is split in a standard way, where 50,000 images are used for training a model and the remaining 10,000 for evaluating its performance.\n",
    "\n",
    "The photos are in color with red, green and blue components, but are small measuring 32 by 32 pixel squares.\n"
   ]
  },
  {
   "cell_type": "markdown",
   "metadata": {},
   "source": [
    "### Loading The CIFAR-10 Dataset in Keras"
   ]
  },
  {
   "cell_type": "markdown",
   "metadata": {},
   "source": [
    "The CIFAR-10 dataset can easily be loaded in Keras.\n",
    "\n",
    "Keras has the facility to automatically download standard datasets like CIFAR-10 and store them in the ~/.keras/datasets directory using the cifar10.load_data() function. This dataset is large at 163 megabytes, so it may take a few minutes to download.\n",
    "\n",
    "Once downloaded, subsequent calls to the function will load the dataset ready for use.\n",
    "\n",
    "The dataset is stored as pickled training and test sets, ready for use in Keras. Each image is represented as a three dimensional matrix, with dimensions for red, green, blue, width and height. We can plot images directly using matplotlib.\n",
    "\n"
   ]
  },
  {
   "cell_type": "code",
   "execution_count": 1,
   "metadata": {},
   "outputs": [
    {
     "name": "stderr",
     "output_type": "stream",
     "text": [
      "Using TensorFlow backend.\n"
     ]
    }
   ],
   "source": [
    "# Plot ad hoc CIFAR10 instances\n",
    "from keras.datasets import cifar10\n",
    "from matplotlib import pyplot\n",
    "# load data\n",
    "(X_train, y_train), (X_test, y_test) = cifar10.load_data()\n"
   ]
  },
  {
   "cell_type": "markdown",
   "metadata": {},
   "source": [
    "### Simple Convolutional Neural Network for CIFAR-10\n"
   ]
  },
  {
   "cell_type": "markdown",
   "metadata": {},
   "source": [
    "The CIFAR-10 problem is best solved using a Convolutional Neural Network (CNN).\n",
    "\n",
    "We can quickly start off by defining all of the classes and functions we will need in this example."
   ]
  },
  {
   "cell_type": "code",
   "execution_count": 2,
   "metadata": {},
   "outputs": [],
   "source": [
    "# Simple CNN model for CIFAR-10\n",
    "import numpy\n",
    "from keras.datasets import cifar10\n",
    "from keras.models import Sequential\n",
    "from keras.layers import Dense\n",
    "from keras.layers import Dropout\n",
    "from keras.layers import Flatten\n",
    "from keras.constraints import maxnorm\n",
    "from keras.optimizers import SGD\n",
    "from keras.layers.convolutional import Conv2D\n",
    "from keras.layers.convolutional import MaxPooling2D\n",
    "from keras.utils import np_utils\n",
    "from keras import backend as K\n",
    "K.set_image_dim_ordering('th')\n"
   ]
  },
  {
   "cell_type": "markdown",
   "metadata": {},
   "source": [
    "As is good practice, we next initialize the random number seed with a constant to ensure the results are reproducible."
   ]
  },
  {
   "cell_type": "code",
   "execution_count": 3,
   "metadata": {},
   "outputs": [],
   "source": [
    "# fix random seed for reproducibility\n",
    "seed = 7\n",
    "numpy.random.seed(seed)\n"
   ]
  },
  {
   "cell_type": "markdown",
   "metadata": {},
   "source": [
    "Next we can load the CIFAR-10 dataset."
   ]
  },
  {
   "cell_type": "code",
   "execution_count": 4,
   "metadata": {},
   "outputs": [],
   "source": [
    "# load data\n",
    "(X_train, y_train), (X_test, y_test) = cifar10.load_data()\n"
   ]
  },
  {
   "cell_type": "markdown",
   "metadata": {},
   "source": [
    "The pixel values are in the range of 0 to 255 for each of the red, green and blue channels.\n",
    "\n",
    "It is good practice to work with normalized data. Because the input values are well understood, we can easily normalize to the range 0 to 1 by dividing each value by the maximum observation which is 255.\n",
    "\n",
    "Note, the data is loaded as integers, so we must cast it to floating point values in order to perform the division.\n"
   ]
  },
  {
   "cell_type": "code",
   "execution_count": 5,
   "metadata": {},
   "outputs": [],
   "source": [
    "# normalize inputs from 0-255 to 0.0-1.0\n",
    "X_train = X_train.astype('float32')\n",
    "X_test = X_test.astype('float32')\n",
    "X_train = X_train / 255.0\n",
    "X_test = X_test / 255.0\n"
   ]
  },
  {
   "cell_type": "markdown",
   "metadata": {},
   "source": [
    "\n",
    "The output variables are defined as a vector of integers from 0 to 1 for each class.\n",
    "\n",
    "We can use a one hot encoding to transform them into a binary matrix in order to best model the classification problem. We know there are 10 classes for this problem, so we can expect the binary matrix to have a width of 10.\n"
   ]
  },
  {
   "cell_type": "code",
   "execution_count": 6,
   "metadata": {},
   "outputs": [],
   "source": [
    "# one hot encode outputs\n",
    "y_train = np_utils.to_categorical(y_train)\n",
    "y_test = np_utils.to_categorical(y_test)\n",
    "num_classes = y_test.shape[1]"
   ]
  },
  {
   "cell_type": "markdown",
   "metadata": {},
   "source": [
    "Let’s start off by defining a simple CNN structure as a baseline and evaluate how well it performs on the problem.\n",
    "\n",
    "We will use a structure with two convolutional layers followed by max pooling and a flattening out of the network to fully connected layers to make predictions.\n",
    "\n",
    "Our baseline network structure can be summarized as follows:\n",
    "\n",
    "1. Convolutional input layer, 32 feature maps with a size of 3×3, a rectifier activation function and a weight constraint of max norm set to 3.\n",
    "2. Dropout set to 20%.\n",
    "3. Convolutional layer, 32 feature maps with a size of 3×3, a rectifier activation function and a weight constraint of max norm set to 3.\n",
    "4. Max Pool layer with size 2×2.\n",
    "5. Flatten layer.\n",
    "6. Fully connected layer with 512 units and a rectifier activation function.\n",
    "7. Dropout set to 50%.\n",
    "8. Fully connected output layer with 10 units and a softmax activation function.\n",
    "\n",
    "A logarithmic loss function is used with the stochastic gradient descent optimization algorithm configured with a large momentum and weight decay start with a learning rate of 0.01.\n"
   ]
  },
  {
   "cell_type": "code",
   "execution_count": 7,
   "metadata": {},
   "outputs": [
    {
     "name": "stdout",
     "output_type": "stream",
     "text": [
      "_________________________________________________________________\n",
      "Layer (type)                 Output Shape              Param #   \n",
      "=================================================================\n",
      "conv2d_1 (Conv2D)            (None, 32, 32, 32)        896       \n",
      "_________________________________________________________________\n",
      "dropout_1 (Dropout)          (None, 32, 32, 32)        0         \n",
      "_________________________________________________________________\n",
      "conv2d_2 (Conv2D)            (None, 32, 32, 32)        9248      \n",
      "_________________________________________________________________\n",
      "max_pooling2d_1 (MaxPooling2 (None, 32, 16, 16)        0         \n",
      "_________________________________________________________________\n",
      "flatten_1 (Flatten)          (None, 8192)              0         \n",
      "_________________________________________________________________\n",
      "dense_1 (Dense)              (None, 512)               4194816   \n",
      "_________________________________________________________________\n",
      "dropout_2 (Dropout)          (None, 512)               0         \n",
      "_________________________________________________________________\n",
      "dense_2 (Dense)              (None, 10)                5130      \n",
      "=================================================================\n",
      "Total params: 4,210,090\n",
      "Trainable params: 4,210,090\n",
      "Non-trainable params: 0\n",
      "_________________________________________________________________\n",
      "None\n"
     ]
    }
   ],
   "source": [
    "# Create the model\n",
    "model = Sequential()\n",
    "model.add(Conv2D(32, (3, 3), input_shape=(3, 32, 32), padding='same', activation='relu', kernel_constraint=maxnorm(3)))\n",
    "model.add(Dropout(0.2))\n",
    "model.add(Conv2D(32, (3, 3), activation='relu', padding='same', kernel_constraint=maxnorm(3)))\n",
    "model.add(MaxPooling2D(pool_size=(2, 2)))\n",
    "model.add(Flatten())\n",
    "model.add(Dense(512, activation='relu', kernel_constraint=maxnorm(3)))\n",
    "model.add(Dropout(0.5))\n",
    "model.add(Dense(num_classes, activation='softmax'))\n",
    "# Compile model\n",
    "epochs = 10\n",
    "lrate = 0.01\n",
    "decay = lrate/epochs\n",
    "sgd = SGD(lr=lrate, momentum=0.9, decay=decay, nesterov=False)\n",
    "model.compile(loss='categorical_crossentropy', optimizer='adagrad', metrics=['categorical_accuracy'])\n",
    "print(model.summary())\n"
   ]
  },
  {
   "cell_type": "markdown",
   "metadata": {},
   "source": [
    "We can fit this model with 10 epochs and a batch size of 32.\n",
    "\n",
    "A small number of epochs was chosen to help keep this tutorial moving. Normally the number of epochs would be one or two orders of magnitude larger for this problem.\n",
    "\n",
    "Once the model is fit, we evaluate it on the test dataset and print out the classification accuracy.\n"
   ]
  },
  {
   "cell_type": "code",
   "execution_count": 8,
   "metadata": {},
   "outputs": [
    {
     "name": "stdout",
     "output_type": "stream",
     "text": [
      "Train on 50000 samples, validate on 10000 samples\n",
      "Epoch 1/10\n",
      "50000/50000 [==============================] - 647s 13ms/step - loss: 1.6141 - categorical_accuracy: 0.4203 - val_loss: 1.3088 - val_categorical_accuracy: 0.5389\n",
      "Epoch 2/10\n",
      "50000/50000 [==============================] - 691s 14ms/step - loss: 1.1987 - categorical_accuracy: 0.5752 - val_loss: 1.1130 - val_categorical_accuracy: 0.6090\n",
      "Epoch 3/10\n",
      "50000/50000 [==============================] - 685s 14ms/step - loss: 1.0322 - categorical_accuracy: 0.6374 - val_loss: 1.0067 - val_categorical_accuracy: 0.6496\n",
      "Epoch 4/10\n",
      "50000/50000 [==============================] - 694s 14ms/step - loss: 0.9367 - categorical_accuracy: 0.6711 - val_loss: 0.9716 - val_categorical_accuracy: 0.6610\n",
      "Epoch 5/10\n",
      "50000/50000 [==============================] - 699s 14ms/step - loss: 0.8595 - categorical_accuracy: 0.6990 - val_loss: 0.9385 - val_categorical_accuracy: 0.6734\n",
      "Epoch 6/10\n",
      "50000/50000 [==============================] - 693s 14ms/step - loss: 0.8011 - categorical_accuracy: 0.7212 - val_loss: 0.9027 - val_categorical_accuracy: 0.6855\n",
      "Epoch 7/10\n",
      "50000/50000 [==============================] - 708s 14ms/step - loss: 0.7488 - categorical_accuracy: 0.7395 - val_loss: 0.8850 - val_categorical_accuracy: 0.6913\n",
      "Epoch 8/10\n",
      "50000/50000 [==============================] - 729s 15ms/step - loss: 0.7026 - categorical_accuracy: 0.7575 - val_loss: 0.8820 - val_categorical_accuracy: 0.6935\n",
      "Epoch 9/10\n",
      "50000/50000 [==============================] - 712s 14ms/step - loss: 0.6573 - categorical_accuracy: 0.7739 - val_loss: 0.8735 - val_categorical_accuracy: 0.6992\n",
      "Epoch 10/10\n",
      "50000/50000 [==============================] - 666s 13ms/step - loss: 0.6167 - categorical_accuracy: 0.7884 - val_loss: 0.8690 - val_categorical_accuracy: 0.7013\n",
      "Accuracy: 70.13%\n"
     ]
    }
   ],
   "source": [
    "# Fit the model\n",
    "model.fit(X_train, y_train, validation_data=(X_test, y_test), epochs=epochs, batch_size=32)\n",
    "# Final evaluation of the model\n",
    "scores = model.evaluate(X_test, y_test, verbose=0)\n",
    "print(\"Accuracy: %.2f%%\" % (scores[1]*100))"
   ]
  },
  {
   "cell_type": "markdown",
   "metadata": {},
   "source": [
    "We can improve the accuracy significantly by creating a much deeper network."
   ]
  },
  {
   "cell_type": "markdown",
   "metadata": {},
   "source": [
    "### Larger Convolutional Neural Network for CIFAR-10\n"
   ]
  },
  {
   "cell_type": "markdown",
   "metadata": {},
   "source": [
    "We have seen that a simple CNN performs poorly on this complex problem. In this section we look at scaling up the size and complexity of our model.\n",
    "\n",
    "Let’s design a deep version of the simple CNN above. We can introduce an additional round of convolutions with many more feature maps. We will use the same pattern of Convolutional, Dropout, Convolutional and Max Pooling layers.\n",
    "\n",
    "This pattern will be repeated 3 times with 32, 64, and 128 feature maps. The effect be an increasing number of feature maps with a smaller and smaller size given the max pooling layers. Finally an additional and larger Dense layer will be used at the output end of the network in an attempt to better translate the large number feature maps to class values.\n",
    "\n",
    "We can summarize a new network architecture as follows:\n",
    "\n",
    "Convolutional input layer, 32 feature maps with a size of 3×3 and a rectifier activation function.\n",
    "\n",
    "Dropout layer at 20%.\n",
    "\n",
    "Convolutional layer, 32 feature maps with a size of 3×3 and a rectifier activation function.\n",
    "\n",
    "Max Pool layer with size 2×2.\n",
    "\n",
    "Convolutional layer, 64 feature maps with a size of 3×3 and a rectifier activation function.\n",
    "\n",
    "Dropout layer at 20%.\n",
    "\n",
    "Convolutional layer, 64 feature maps with a size of 3×3 and a rectifier activation function.\n",
    "\n",
    "Max Pool layer with size 2×2.\n",
    "\n",
    "Convolutional layer, 128 feature maps with a size of 3×3 and a rectifier activation function.\n",
    "\n",
    "Dropout layer at 20%.\n",
    "\n",
    "Convolutional layer,128 feature maps with a size of 3×3 and a rectifier activation function.\n",
    "\n",
    "Max Pool layer with size 2×2.\n",
    "\n",
    "Flatten layer.\n",
    "\n",
    "Dropout layer at 20%.\n",
    "\n",
    "Fully connected layer with 1024 units and a rectifier activation function.\n",
    "\n",
    "Dropout layer at 20%.\n",
    "\n",
    "Fully connected layer with 512 units and a rectifier activation function.\n",
    "\n",
    "Dropout layer at 20%.\n",
    "\n",
    "Fully connected output layer with 10 units and a softmax activation function.\n",
    "\n",
    "We can very easily define this network topology in Keras, as follows:\n"
   ]
  },
  {
   "cell_type": "code",
   "execution_count": 10,
   "metadata": {},
   "outputs": [
    {
     "name": "stdout",
     "output_type": "stream",
     "text": [
      "_________________________________________________________________\n",
      "Layer (type)                 Output Shape              Param #   \n",
      "=================================================================\n",
      "conv2d_3 (Conv2D)            (None, 32, 32, 32)        896       \n",
      "_________________________________________________________________\n",
      "dropout_3 (Dropout)          (None, 32, 32, 32)        0         \n",
      "_________________________________________________________________\n",
      "conv2d_4 (Conv2D)            (None, 32, 32, 32)        9248      \n",
      "_________________________________________________________________\n",
      "max_pooling2d_2 (MaxPooling2 (None, 32, 16, 16)        0         \n",
      "_________________________________________________________________\n",
      "conv2d_5 (Conv2D)            (None, 64, 16, 16)        18496     \n",
      "_________________________________________________________________\n",
      "dropout_4 (Dropout)          (None, 64, 16, 16)        0         \n",
      "_________________________________________________________________\n",
      "conv2d_6 (Conv2D)            (None, 64, 16, 16)        36928     \n",
      "_________________________________________________________________\n",
      "max_pooling2d_3 (MaxPooling2 (None, 64, 8, 8)          0         \n",
      "_________________________________________________________________\n",
      "conv2d_7 (Conv2D)            (None, 128, 8, 8)         73856     \n",
      "_________________________________________________________________\n",
      "dropout_5 (Dropout)          (None, 128, 8, 8)         0         \n",
      "_________________________________________________________________\n",
      "conv2d_8 (Conv2D)            (None, 128, 8, 8)         147584    \n",
      "_________________________________________________________________\n",
      "max_pooling2d_4 (MaxPooling2 (None, 128, 4, 4)         0         \n",
      "_________________________________________________________________\n",
      "flatten_2 (Flatten)          (None, 2048)              0         \n",
      "_________________________________________________________________\n",
      "dropout_6 (Dropout)          (None, 2048)              0         \n",
      "_________________________________________________________________\n",
      "dense_3 (Dense)              (None, 1024)              2098176   \n",
      "_________________________________________________________________\n",
      "dropout_7 (Dropout)          (None, 1024)              0         \n",
      "_________________________________________________________________\n",
      "dense_4 (Dense)              (None, 512)               524800    \n",
      "_________________________________________________________________\n",
      "dropout_8 (Dropout)          (None, 512)               0         \n",
      "_________________________________________________________________\n",
      "dense_5 (Dense)              (None, 10)                5130      \n",
      "=================================================================\n",
      "Total params: 2,915,114\n",
      "Trainable params: 2,915,114\n",
      "Non-trainable params: 0\n",
      "_________________________________________________________________\n",
      "None\n"
     ]
    }
   ],
   "source": [
    "# Create the model\n",
    "\n",
    "model = Sequential()\n",
    "model.add(Conv2D(32, (3, 3), input_shape=(3, 32, 32), activation='relu', padding='same'))\n",
    "model.add(Dropout(0.2))\n",
    "model.add(Conv2D(32, (3, 3), activation='relu', padding='same'))\n",
    "model.add(MaxPooling2D(pool_size=(2, 2)))\n",
    "model.add(Conv2D(64, (3, 3), activation='relu', padding='same'))\n",
    "model.add(Dropout(0.2))\n",
    "model.add(Conv2D(64, (3, 3), activation='relu', padding='same'))\n",
    "model.add(MaxPooling2D(pool_size=(2, 2)))\n",
    "model.add(Conv2D(128, (3, 3), activation='relu', padding='same'))\n",
    "model.add(Dropout(0.2))\n",
    "model.add(Conv2D(128, (3, 3), activation='relu', padding='same'))\n",
    "model.add(MaxPooling2D(pool_size=(2, 2)))\n",
    "model.add(Flatten())\n",
    "model.add(Dropout(0.2))\n",
    "model.add(Dense(1024, activation='relu', kernel_constraint=maxnorm(3)))\n",
    "model.add(Dropout(0.2))\n",
    "model.add(Dense(512, activation='relu', kernel_constraint=maxnorm(3)))\n",
    "model.add(Dropout(0.2))\n",
    "model.add(Dense(num_classes, activation='softmax'))\n",
    "\n",
    "# Compile model\n",
    "\n",
    "epochs = 10\n",
    "lrate = 0.01\n",
    "decay = lrate/epochs\n",
    "sgd = SGD(lr=lrate, momentum=0.9, decay=decay, nesterov=False)\n",
    "model.compile(loss='categorical_crossentropy', optimizer='adagrad', metrics=['categorical_accuracy'])\n",
    "print(model.summary())"
   ]
  },
  {
   "cell_type": "markdown",
   "metadata": {},
   "source": [
    "We can fit and evaluate this model using the same a procedure above and the same number of epochs but a larger batch size of 64, found through some minor experimentation.\n"
   ]
  },
  {
   "cell_type": "code",
   "execution_count": 13,
   "metadata": {},
   "outputs": [
    {
     "name": "stdout",
     "output_type": "stream",
     "text": [
      "Train on 50000 samples, validate on 10000 samples\n",
      "Epoch 1/10\n",
      "50000/50000 [==============================] - 1091s 22ms/step - loss: 2.0590 - categorical_accuracy: 0.2101 - val_loss: 1.5999 - val_categorical_accuracy: 0.3941\n",
      "Epoch 2/10\n",
      "50000/50000 [==============================] - 1082s 22ms/step - loss: 1.4533 - categorical_accuracy: 0.4666 - val_loss: 1.2691 - val_categorical_accuracy: 0.5376\n",
      "Epoch 3/10\n",
      "50000/50000 [==============================] - 1120s 22ms/step - loss: 1.1911 - categorical_accuracy: 0.5700 - val_loss: 1.2213 - val_categorical_accuracy: 0.5705\n",
      "Epoch 4/10\n",
      "50000/50000 [==============================] - 1097s 22ms/step - loss: 1.0234 - categorical_accuracy: 0.6352 - val_loss: 1.0030 - val_categorical_accuracy: 0.6460\n",
      "Epoch 5/10\n",
      "50000/50000 [==============================] - 1070s 21ms/step - loss: 0.9110 - categorical_accuracy: 0.6764 - val_loss: 0.9320 - val_categorical_accuracy: 0.6756\n",
      "Epoch 6/10\n",
      "50000/50000 [==============================] - 1019s 20ms/step - loss: 0.8293 - categorical_accuracy: 0.7062 - val_loss: 0.8340 - val_categorical_accuracy: 0.7086\n",
      "Epoch 7/10\n",
      "50000/50000 [==============================] - 1020s 20ms/step - loss: 0.7600 - categorical_accuracy: 0.7305 - val_loss: 0.8423 - val_categorical_accuracy: 0.7081\n",
      "Epoch 8/10\n",
      "50000/50000 [==============================] - 1018s 20ms/step - loss: 0.7085 - categorical_accuracy: 0.7480 - val_loss: 0.8242 - val_categorical_accuracy: 0.7126\n",
      "Epoch 9/10\n",
      "50000/50000 [==============================] - 1049s 21ms/step - loss: 0.6614 - categorical_accuracy: 0.7679 - val_loss: 0.7554 - val_categorical_accuracy: 0.7397\n",
      "Epoch 10/10\n",
      "50000/50000 [==============================] - 1101s 22ms/step - loss: 0.6158 - categorical_accuracy: 0.7821 - val_loss: 0.7516 - val_categorical_accuracy: 0.7386\n",
      "Accuracy: 73.86%\n"
     ]
    }
   ],
   "source": [
    "numpy.random.seed(seed)\n",
    "model.fit(X_train, y_train, validation_data=(X_test, y_test), epochs=epochs, batch_size=64)\n",
    "# Final evaluation of the model\n",
    "scores = model.evaluate(X_test, y_test, verbose=0)\n",
    "print(\"Accuracy: %.2f%%\" % (scores[1]*100))"
   ]
  },
  {
   "cell_type": "markdown",
   "metadata": {},
   "source": [
    "Running this example prints the classification accuracy and loss on the training and test datasets each epoch. The estimate of classification accuracy for the final model is 73.86% which is nearly 3 points better than our simpler model.\n"
   ]
  },
  {
   "cell_type": "markdown",
   "metadata": {},
   "source": [
    "### Extensions To Improve Model Performance\n"
   ]
  },
  {
   "cell_type": "markdown",
   "metadata": {},
   "source": [
    "We have achieved good results on this very difficult problem, but we are still a good way from achieving world class results.\n",
    "\n",
    "Below are some ideas that we can try to extend upon the models and improve model performance.\n",
    "\n",
    "1. Train for More Epochs. Each model was trained for a very small number of epochs, 10. It is common to train large convolutional neural networks for hundreds or thousands of epochs. I would expect that performance gains can be achieved by significantly raising the number of training epochs.\n",
    "2. Image Data Augmentation. The objects in the image vary in their position. Another boost in model performance can likely be achieved by using some data augmentation. Methods such as standardization and random shifts and horizontal image flips may be beneficial.\n",
    "3. Deeper Network Topology. The larger network presented is deep, but larger networks could be designed for the problem. This may involve more feature maps closer to the input and perhaps less aggressive pooling. Additionally, standard convolutional network topologies that have been shown useful may be adopted and evaluated on the problem.\n"
   ]
  },
  {
   "cell_type": "markdown",
   "metadata": {},
   "source": []
  }
 ],
 "metadata": {
  "kernelspec": {
   "display_name": "Python 3",
   "language": "python",
   "name": "python3"
  },
  "language_info": {
   "codemirror_mode": {
    "name": "ipython",
    "version": 3
   },
   "file_extension": ".py",
   "mimetype": "text/x-python",
   "name": "python",
   "nbconvert_exporter": "python",
   "pygments_lexer": "ipython3",
   "version": "3.5.4"
  }
 },
 "nbformat": 4,
 "nbformat_minor": 2
}
