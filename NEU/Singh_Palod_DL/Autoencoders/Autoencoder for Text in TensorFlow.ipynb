{
 "cells": [
  {
   "cell_type": "markdown",
   "metadata": {},
   "source": [
    "### Unsupervised dimensionality reduction using a 1 Hidden-layer perceptron where label == ground truth\n",
    "### For NLP, we can say somewhat say that word2vec and autoencoders are similiar.\n",
    "\n",
    "> Dimensionality reduction works only if the inputs are correlated (like images from the same domain). It fails if we pass in completely random inputs each time we train an autoencoder. So in the end, an autoencoder can produce lower dimensional output (at the encoder) given an input much like Principal Component Analysis (PCA). And since we don’t have to use any labels during training, it’s an unsupervised model as well."
   ]
  },
  {
   "cell_type": "code",
   "execution_count": 5,
   "metadata": {
    "collapsed": true
   },
   "outputs": [],
   "source": [
    "import os\n",
    "from random import randint\n",
    "from collections import Counter\n",
    "os.environ['TF_CPP_MIN_LOG_LEVEL']='2'\n",
    "\n",
    "import numpy as np\n",
    "import tensorflow as tf"
   ]
  },
  {
   "cell_type": "code",
   "execution_count": 182,
   "metadata": {},
   "outputs": [
    {
     "data": {
      "text/plain": [
       "['the',\n",
       " 'quick',\n",
       " 'brown',\n",
       " 'fox',\n",
       " 'jumped',\n",
       " 'over',\n",
       " 'the',\n",
       " 'lazy',\n",
       " 'dog',\n",
       " 'from']"
      ]
     },
     "execution_count": 182,
     "metadata": {},
     "output_type": "execute_result"
    }
   ],
   "source": [
    "corpus = \"the quick brown fox jumped over the lazy dog from the quick tall fox\".split()\n",
    "test_corpus = \"the quick brown fox jumped over the lazy dog from the quick tall fox\".split()\n",
    "corpus[:10]"
   ]
  },
  {
   "cell_type": "code",
   "execution_count": 183,
   "metadata": {
    "collapsed": true
   },
   "outputs": [],
   "source": [
    "def build_vocab(words, vocab_size):\n",
    "    \"\"\" Build vocabulary of VOCAB_SIZE most frequent words \"\"\"\n",
    "    dictionary = dict()\n",
    "    count = [('UNK', -1)]\n",
    "    count.extend(Counter(words).most_common(vocab_size - 1))\n",
    "    index = 0\n",
    "    for word, _ in count:\n",
    "        dictionary[word] = index\n",
    "        index += 1\n",
    "    index_dictionary = dict(zip(dictionary.values(), dictionary.keys()))\n",
    "    return dictionary, index_dictionary"
   ]
  },
  {
   "cell_type": "code",
   "execution_count": 184,
   "metadata": {},
   "outputs": [],
   "source": [
    "vocabulary, reverse_vocabulary = build_vocab(corpus, 100)"
   ]
  },
  {
   "cell_type": "code",
   "execution_count": 185,
   "metadata": {
    "scrolled": true
   },
   "outputs": [
    {
     "data": {
      "text/plain": [
       "{'UNK': 0,\n",
       " 'brown': 9,\n",
       " 'dog': 7,\n",
       " 'fox': 3,\n",
       " 'from': 10,\n",
       " 'jumped': 8,\n",
       " 'lazy': 6,\n",
       " 'over': 5,\n",
       " 'quick': 2,\n",
       " 'tall': 4,\n",
       " 'the': 1}"
      ]
     },
     "execution_count": 185,
     "metadata": {},
     "output_type": "execute_result"
    }
   ],
   "source": [
    "vocabulary"
   ]
  },
  {
   "cell_type": "code",
   "execution_count": 186,
   "metadata": {
    "collapsed": true
   },
   "outputs": [],
   "source": [
    "def index_words_in_corpus(corpus):\n",
    "    return [vocabulary[token] if token in vocabulary else 0 for token in corpus]"
   ]
  },
  {
   "cell_type": "code",
   "execution_count": 187,
   "metadata": {
    "collapsed": true
   },
   "outputs": [],
   "source": [
    "corpus = index_words_in_corpus(corpus)\n",
    "test_corpus = index_words_in_corpus(test_corpus)"
   ]
  },
  {
   "cell_type": "code",
   "execution_count": 188,
   "metadata": {},
   "outputs": [
    {
     "data": {
      "text/plain": [
       "[1, 2, 9, 3, 8, 5, 1, 6, 7, 10, 1, 2, 4, 3]"
      ]
     },
     "execution_count": 188,
     "metadata": {},
     "output_type": "execute_result"
    }
   ],
   "source": [
    "test_corpus"
   ]
  },
  {
   "cell_type": "code",
   "execution_count": 189,
   "metadata": {},
   "outputs": [
    {
     "data": {
      "text/plain": [
       "11"
      ]
     },
     "execution_count": 189,
     "metadata": {},
     "output_type": "execute_result"
    }
   ],
   "source": [
    "vocabulary_size = len(vocabulary)\n",
    "vocabulary_size"
   ]
  },
  {
   "cell_type": "code",
   "execution_count": 190,
   "metadata": {
    "collapsed": true
   },
   "outputs": [],
   "source": [
    "def one_hot_encode(index):\n",
    "    row = np.zeros(vocabulary_size, dtype=np.int32)\n",
    "    row[index] = 1\n",
    "    return row"
   ]
  },
  {
   "cell_type": "code",
   "execution_count": 191,
   "metadata": {
    "collapsed": true
   },
   "outputs": [],
   "source": [
    "data = np.array([one_hot_encode(i) for i in corpus])\n",
    "test_data = np.array([one_hot_encode(i) for i in test_corpus])"
   ]
  },
  {
   "cell_type": "code",
   "execution_count": 192,
   "metadata": {},
   "outputs": [
    {
     "name": "stdout",
     "output_type": "stream",
     "text": [
      "(TRAIN: Total number of words, Vocabulary size): (14, 11)\n",
      "(TEST:  Total number of words, Vocabulary size): (14, 11)\n"
     ]
    }
   ],
   "source": [
    "print(\"(TRAIN: Total number of words, Vocabulary size):\", data.shape)\n",
    "print(\"(TEST:  Total number of words, Vocabulary size):\", test_data.shape)"
   ]
  },
  {
   "cell_type": "code",
   "execution_count": 193,
   "metadata": {},
   "outputs": [
    {
     "data": {
      "text/plain": [
       "array([0, 0, 0, 0, 0, 0, 0, 0, 1, 0, 0])"
      ]
     },
     "execution_count": 193,
     "metadata": {},
     "output_type": "execute_result"
    }
   ],
   "source": [
    "data[randint(1, data.shape[0])]"
   ]
  },
  {
   "cell_type": "code",
   "execution_count": 194,
   "metadata": {
    "collapsed": true
   },
   "outputs": [],
   "source": [
    "X = tf.placeholder(tf.float32, shape=(None, vocabulary_size))\n",
    "Y = tf.placeholder(tf.float32, shape=(None, vocabulary_size))"
   ]
  },
  {
   "cell_type": "code",
   "execution_count": 196,
   "metadata": {},
   "outputs": [],
   "source": [
    "w1 = tf.Variable(tf.random_normal(shape=(vocabulary_size, 1000), stddev=0.01), name='weights1')\n",
    "b1 = tf.Variable(tf.zeros([1, 1000]), name=\"bias1\")\n",
    "layer1 = tf.nn.relu(tf.add(tf.matmul(X, w1), b1))\n",
    "\n",
    "w2 = tf.Variable(tf.random_normal(shape=(1000, 250), stddev=0.01), name='weights2')\n",
    "b2 = tf.Variable(tf.zeros([1, 250]), name=\"bias2\")\n",
    "layer2 = tf.nn.relu(tf.add(tf.matmul(layer1, w2), b2))\n",
    "\n",
    "w = tf.Variable(tf.random_normal(shape=(250, 50), stddev=0.01), name='weights')\n",
    "b = tf.Variable(tf.zeros([1, 50]), name=\"bias\")\n",
    "code = tf.nn.relu(tf.add(tf.matmul(layer2, w), b))\n",
    "\n",
    "w3 = tf.Variable(tf.random_normal(shape=(50, 250), stddev=0.01), name='weights3')\n",
    "b3 = tf.Variable(tf.zeros([1, 250]), name=\"bias3\")\n",
    "layer3 = tf.nn.relu(tf.add(tf.matmul(code, w3), b3))\n",
    "\n",
    "w4 = tf.Variable(tf.random_normal(shape=(250, 1000), stddev=0.01), name='weights4')\n",
    "b4 = tf.Variable(tf.zeros([1, 1000]), name=\"bias4\")\n",
    "layer4 = tf.nn.relu(tf.add(tf.matmul(layer3, w4), b4))\n",
    "\n",
    "w5 = tf.Variable(tf.random_normal(shape=(1000, vocabulary_size), stddev=0.01), name='weights5')\n",
    "b5 = tf.Variable(tf.zeros([1, vocabulary_size]), name=\"bias5\")\n",
    "decoder = tf.nn.sigmoid(tf.add(tf.matmul(layer4, w5), b5))"
   ]
  },
  {
   "cell_type": "code",
   "execution_count": 197,
   "metadata": {
    "collapsed": true
   },
   "outputs": [],
   "source": [
    "# entropy = tf.nn.softmax_cross_entropy_with_logits(logits=decoder, labels=Y)\n",
    "loss = tf.reduce_mean(tf.pow(X - decoder, 2))"
   ]
  },
  {
   "cell_type": "code",
   "execution_count": 198,
   "metadata": {},
   "outputs": [],
   "source": [
    "optimizer = tf.train.RMSPropOptimizer(learning_rate=LEARNING_RATE).minimize(loss)\n",
    "init = tf.global_variables_initializer()"
   ]
  },
  {
   "cell_type": "code",
   "execution_count": 203,
   "metadata": {
    "collapsed": true
   },
   "outputs": [],
   "source": [
    "LEARNING_RATE = 0.01\n",
    "NUM_TRAIN_STEPS = 1000\n",
    "SKIP_STEP = 10 # how many steps to skip before reporting the loss"
   ]
  },
  {
   "cell_type": "code",
   "execution_count": 205,
   "metadata": {
    "scrolled": true
   },
   "outputs": [
    {
     "name": "stdout",
     "output_type": "stream",
     "text": [
      "EPOCH 0/1000, LOSS 0.2499999850988388\n",
      "EPOCH 10/1000, LOSS 0.24945718050003052\n",
      "EPOCH 20/1000, LOSS 0.24854017794132233\n",
      "EPOCH 30/1000, LOSS 0.24700087308883667\n",
      "EPOCH 40/1000, LOSS 0.24443811178207397\n",
      "EPOCH 50/1000, LOSS 0.24024417996406555\n",
      "EPOCH 60/1000, LOSS 0.2336183488368988\n",
      "EPOCH 70/1000, LOSS 0.22381845116615295\n",
      "EPOCH 80/1000, LOSS 0.21059055626392365\n",
      "EPOCH 90/1000, LOSS 0.19337916374206543\n",
      "EPOCH 100/1000, LOSS 0.16469691693782806\n",
      "EPOCH 110/1000, LOSS 0.10726149380207062\n",
      "EPOCH 120/1000, LOSS 0.0821770429611206\n",
      "EPOCH 130/1000, LOSS 0.08011706173419952\n",
      "EPOCH 140/1000, LOSS 0.07989447563886642\n",
      "EPOCH 150/1000, LOSS 0.07984154671430588\n",
      "EPOCH 160/1000, LOSS 0.07981390506029129\n",
      "EPOCH 170/1000, LOSS 0.07979799807071686\n",
      "EPOCH 180/1000, LOSS 0.08027677237987518\n",
      "EPOCH 190/1000, LOSS 0.08026178926229477\n",
      "EPOCH 200/1000, LOSS 0.08014322817325592\n",
      "EPOCH 210/1000, LOSS 0.08006715029478073\n",
      "EPOCH 220/1000, LOSS 0.08003073930740356\n",
      "EPOCH 230/1000, LOSS 0.08000756800174713\n",
      "EPOCH 240/1000, LOSS 0.07999226450920105\n",
      "EPOCH 250/1000, LOSS 0.07997790724039078\n",
      "EPOCH 260/1000, LOSS 0.07996856421232224\n",
      "EPOCH 270/1000, LOSS 0.07995875924825668\n",
      "EPOCH 280/1000, LOSS 0.0799492746591568\n",
      "EPOCH 290/1000, LOSS 0.07994165271520615\n",
      "EPOCH 300/1000, LOSS 0.07993904501199722\n",
      "EPOCH 310/1000, LOSS 0.07992982864379883\n",
      "EPOCH 320/1000, LOSS 0.07992083579301834\n",
      "EPOCH 330/1000, LOSS 0.07991596311330795\n",
      "EPOCH 340/1000, LOSS 0.07991111278533936\n",
      "EPOCH 350/1000, LOSS 0.07990624010562897\n",
      "EPOCH 360/1000, LOSS 0.07990201562643051\n",
      "EPOCH 370/1000, LOSS 0.07989463210105896\n",
      "EPOCH 380/1000, LOSS 0.07989007979631424\n",
      "EPOCH 390/1000, LOSS 0.07988661527633667\n",
      "EPOCH 400/1000, LOSS 0.07988297194242477\n",
      "EPOCH 410/1000, LOSS 0.07987949997186661\n",
      "EPOCH 420/1000, LOSS 0.07987655699253082\n",
      "EPOCH 430/1000, LOSS 0.07987482845783234\n",
      "EPOCH 440/1000, LOSS 0.07987351715564728\n",
      "EPOCH 450/1000, LOSS 0.07986708730459213\n",
      "EPOCH 460/1000, LOSS 0.07986541092395782\n",
      "EPOCH 470/1000, LOSS 0.07986427843570709\n",
      "EPOCH 480/1000, LOSS 0.07986196875572205\n",
      "EPOCH 490/1000, LOSS 0.07985991984605789\n",
      "EPOCH 500/1000, LOSS 0.07985825836658478\n",
      "EPOCH 510/1000, LOSS 0.07985662668943405\n",
      "EPOCH 520/1000, LOSS 0.07985501736402512\n",
      "EPOCH 530/1000, LOSS 0.07985347509384155\n",
      "EPOCH 540/1000, LOSS 0.07985194027423859\n",
      "EPOCH 550/1000, LOSS 0.07985039800405502\n",
      "EPOCH 560/1000, LOSS 0.0798492431640625\n",
      "EPOCH 570/1000, LOSS 0.07985011488199234\n",
      "EPOCH 580/1000, LOSS 0.07984574139118195\n",
      "EPOCH 590/1000, LOSS 0.0798448771238327\n",
      "EPOCH 600/1000, LOSS 0.07984477281570435\n",
      "EPOCH 610/1000, LOSS 0.07984322309494019\n",
      "EPOCH 620/1000, LOSS 0.07984180003404617\n",
      "EPOCH 630/1000, LOSS 0.0798407644033432\n",
      "EPOCH 640/1000, LOSS 0.07983964681625366\n",
      "EPOCH 650/1000, LOSS 0.07983851432800293\n",
      "EPOCH 660/1000, LOSS 0.07983747124671936\n",
      "EPOCH 670/1000, LOSS 0.07983653247356415\n",
      "EPOCH 680/1000, LOSS 0.0798356905579567\n",
      "EPOCH 690/1000, LOSS 0.0798349380493164\n",
      "EPOCH 700/1000, LOSS 0.0798342302441597\n",
      "EPOCH 710/1000, LOSS 0.0798335000872612\n",
      "EPOCH 720/1000, LOSS 0.0798327624797821\n",
      "EPOCH 730/1000, LOSS 0.07983200252056122\n",
      "EPOCH 740/1000, LOSS 0.07983124256134033\n",
      "EPOCH 750/1000, LOSS 0.07983052730560303\n",
      "EPOCH 760/1000, LOSS 0.07982966303825378\n",
      "EPOCH 770/1000, LOSS 0.07982870191335678\n",
      "EPOCH 780/1000, LOSS 0.07983026653528214\n",
      "EPOCH 790/1000, LOSS 0.0798267051577568\n",
      "EPOCH 800/1000, LOSS 0.079826220870018\n",
      "EPOCH 810/1000, LOSS 0.07982634752988815\n",
      "EPOCH 820/1000, LOSS 0.0798252522945404\n",
      "EPOCH 830/1000, LOSS 0.07982434332370758\n",
      "EPOCH 840/1000, LOSS 0.07982372492551804\n",
      "EPOCH 850/1000, LOSS 0.07982297986745834\n",
      "EPOCH 860/1000, LOSS 0.07982219010591507\n",
      "EPOCH 870/1000, LOSS 0.07982146739959717\n",
      "EPOCH 880/1000, LOSS 0.07982077449560165\n",
      "EPOCH 890/1000, LOSS 0.07982009649276733\n",
      "EPOCH 900/1000, LOSS 0.0798194408416748\n",
      "EPOCH 910/1000, LOSS 0.07981882244348526\n",
      "EPOCH 920/1000, LOSS 0.0798182412981987\n",
      "EPOCH 930/1000, LOSS 0.07981771230697632\n",
      "EPOCH 940/1000, LOSS 0.07981720566749573\n",
      "EPOCH 950/1000, LOSS 0.07981675118207932\n",
      "EPOCH 960/1000, LOSS 0.07981628179550171\n",
      "EPOCH 970/1000, LOSS 0.07981587946414948\n",
      "EPOCH 980/1000, LOSS 0.07981543987989426\n",
      "EPOCH 990/1000, LOSS 0.07981385290622711\n"
     ]
    }
   ],
   "source": [
    "with tf.Session() as sess:\n",
    "    sess.run(init)\n",
    "    \n",
    "    for i in range(NUM_TRAIN_STEPS):\n",
    "        _, loss_val = sess.run([optimizer, loss], feed_dict={X: data})\n",
    "            \n",
    "        if i % SKIP_STEP == 0:\n",
    "                print(\"EPOCH {}/{}, LOSS {}\".format(i , NUM_TRAIN_STEPS, loss_val))\n",
    "                \n",
    "    test_data_compressed = sess.run(decoder, feed_dict={X: test_data})\n",
    "#     np.save(outfile, test_data_compressed)\n",
    "        "
   ]
  },
  {
   "cell_type": "code",
   "execution_count": 206,
   "metadata": {},
   "outputs": [
    {
     "data": {
      "text/plain": [
       "(14, 11)"
      ]
     },
     "execution_count": 206,
     "metadata": {},
     "output_type": "execute_result"
    }
   ],
   "source": [
    "test_data_compressed.shape"
   ]
  },
  {
   "cell_type": "code",
   "execution_count": 207,
   "metadata": {},
   "outputs": [
    {
     "data": {
      "text/plain": [
       "array([[ 0.00250547,  0.22422886,  0.15112008,  0.15111433,  0.07651036,\n",
       "         0.07650194,  0.07649717,  0.07650229,  0.07651076,  0.07651436,\n",
       "         0.07649098],\n",
       "       [ 0.00250547,  0.22422886,  0.15112008,  0.15111433,  0.07651036,\n",
       "         0.07650194,  0.07649717,  0.07650229,  0.07651076,  0.07651436,\n",
       "         0.07649098],\n",
       "       [ 0.00250547,  0.22422886,  0.15112008,  0.15111433,  0.07651036,\n",
       "         0.07650194,  0.07649717,  0.07650229,  0.07651076,  0.07651436,\n",
       "         0.07649098],\n",
       "       [ 0.00250547,  0.22422886,  0.15112008,  0.15111433,  0.07651036,\n",
       "         0.07650194,  0.07649717,  0.07650229,  0.07651076,  0.07651436,\n",
       "         0.07649098],\n",
       "       [ 0.00250547,  0.22422886,  0.15112008,  0.15111433,  0.07651036,\n",
       "         0.07650194,  0.07649717,  0.07650229,  0.07651076,  0.07651436,\n",
       "         0.07649098],\n",
       "       [ 0.00250547,  0.22422886,  0.15112008,  0.15111433,  0.07651036,\n",
       "         0.07650194,  0.07649717,  0.07650229,  0.07651076,  0.07651436,\n",
       "         0.07649098],\n",
       "       [ 0.00250547,  0.22422886,  0.15112008,  0.15111433,  0.07651036,\n",
       "         0.07650194,  0.07649717,  0.07650229,  0.07651076,  0.07651436,\n",
       "         0.07649098],\n",
       "       [ 0.00250547,  0.22422886,  0.15112008,  0.15111433,  0.07651036,\n",
       "         0.07650194,  0.07649717,  0.07650229,  0.07651076,  0.07651436,\n",
       "         0.07649098],\n",
       "       [ 0.00250547,  0.22422886,  0.15112008,  0.15111433,  0.07651036,\n",
       "         0.07650194,  0.07649717,  0.07650229,  0.07651076,  0.07651436,\n",
       "         0.07649098],\n",
       "       [ 0.00250547,  0.22422886,  0.15112008,  0.15111433,  0.07651036,\n",
       "         0.07650194,  0.07649717,  0.07650229,  0.07651076,  0.07651436,\n",
       "         0.07649098],\n",
       "       [ 0.00250547,  0.22422886,  0.15112008,  0.15111433,  0.07651036,\n",
       "         0.07650194,  0.07649717,  0.07650229,  0.07651076,  0.07651436,\n",
       "         0.07649098],\n",
       "       [ 0.00250547,  0.22422886,  0.15112008,  0.15111433,  0.07651036,\n",
       "         0.07650194,  0.07649717,  0.07650229,  0.07651076,  0.07651436,\n",
       "         0.07649098],\n",
       "       [ 0.00250547,  0.22422886,  0.15112008,  0.15111433,  0.07651036,\n",
       "         0.07650194,  0.07649717,  0.07650229,  0.07651076,  0.07651436,\n",
       "         0.07649098],\n",
       "       [ 0.00250547,  0.22422886,  0.15112008,  0.15111433,  0.07651036,\n",
       "         0.07650194,  0.07649717,  0.07650229,  0.07651076,  0.07651436,\n",
       "         0.07649098]], dtype=float32)"
      ]
     },
     "execution_count": 207,
     "metadata": {},
     "output_type": "execute_result"
    }
   ],
   "source": [
    "test_data_compressed"
   ]
  },
  {
   "cell_type": "markdown",
   "metadata": {},
   "source": [
    "### Since our compressed data is in probabilities, we'll convert  to whole nums to look up words"
   ]
  },
  {
   "cell_type": "code",
   "execution_count": 208,
   "metadata": {
    "collapsed": true
   },
   "outputs": [],
   "source": [
    "test_data_compressed[test_data_compressed>0] = 1"
   ]
  },
  {
   "cell_type": "code",
   "execution_count": 209,
   "metadata": {},
   "outputs": [
    {
     "data": {
      "text/plain": [
       "array([[ 1.,  1.,  1.,  1.,  1.,  1.,  1.,  1.,  1.,  1.,  1.],\n",
       "       [ 1.,  1.,  1.,  1.,  1.,  1.,  1.,  1.,  1.,  1.,  1.],\n",
       "       [ 1.,  1.,  1.,  1.,  1.,  1.,  1.,  1.,  1.,  1.,  1.],\n",
       "       [ 1.,  1.,  1.,  1.,  1.,  1.,  1.,  1.,  1.,  1.,  1.],\n",
       "       [ 1.,  1.,  1.,  1.,  1.,  1.,  1.,  1.,  1.,  1.,  1.],\n",
       "       [ 1.,  1.,  1.,  1.,  1.,  1.,  1.,  1.,  1.,  1.,  1.],\n",
       "       [ 1.,  1.,  1.,  1.,  1.,  1.,  1.,  1.,  1.,  1.,  1.],\n",
       "       [ 1.,  1.,  1.,  1.,  1.,  1.,  1.,  1.,  1.,  1.,  1.],\n",
       "       [ 1.,  1.,  1.,  1.,  1.,  1.,  1.,  1.,  1.,  1.,  1.],\n",
       "       [ 1.,  1.,  1.,  1.,  1.,  1.,  1.,  1.,  1.,  1.,  1.],\n",
       "       [ 1.,  1.,  1.,  1.,  1.,  1.,  1.,  1.,  1.,  1.,  1.],\n",
       "       [ 1.,  1.,  1.,  1.,  1.,  1.,  1.,  1.,  1.,  1.,  1.],\n",
       "       [ 1.,  1.,  1.,  1.,  1.,  1.,  1.,  1.,  1.,  1.,  1.],\n",
       "       [ 1.,  1.,  1.,  1.,  1.,  1.,  1.,  1.,  1.,  1.,  1.]], dtype=float32)"
      ]
     },
     "execution_count": 209,
     "metadata": {},
     "output_type": "execute_result"
    }
   ],
   "source": [
    "test_data_compressed"
   ]
  },
  {
   "cell_type": "code",
   "execution_count": 210,
   "metadata": {},
   "outputs": [
    {
     "data": {
      "text/plain": [
       "array([[0, 1, 0, 0, 0, 0, 0, 0, 0, 0, 0],\n",
       "       [0, 0, 1, 0, 0, 0, 0, 0, 0, 0, 0],\n",
       "       [0, 0, 0, 0, 0, 0, 0, 0, 0, 1, 0],\n",
       "       [0, 0, 0, 1, 0, 0, 0, 0, 0, 0, 0],\n",
       "       [0, 0, 0, 0, 0, 0, 0, 0, 1, 0, 0],\n",
       "       [0, 0, 0, 0, 0, 1, 0, 0, 0, 0, 0],\n",
       "       [0, 1, 0, 0, 0, 0, 0, 0, 0, 0, 0],\n",
       "       [0, 0, 0, 0, 0, 0, 1, 0, 0, 0, 0],\n",
       "       [0, 0, 0, 0, 0, 0, 0, 1, 0, 0, 0],\n",
       "       [0, 0, 0, 0, 0, 0, 0, 0, 0, 0, 1],\n",
       "       [0, 1, 0, 0, 0, 0, 0, 0, 0, 0, 0],\n",
       "       [0, 0, 1, 0, 0, 0, 0, 0, 0, 0, 0],\n",
       "       [0, 0, 0, 0, 1, 0, 0, 0, 0, 0, 0],\n",
       "       [0, 0, 0, 1, 0, 0, 0, 0, 0, 0, 0]])"
      ]
     },
     "execution_count": 210,
     "metadata": {},
     "output_type": "execute_result"
    }
   ],
   "source": [
    "test_data"
   ]
  },
  {
   "cell_type": "markdown",
   "metadata": {},
   "source": [
    "### Tadaa!!! And here's our prediction\n",
    "This show's how well our compression is able to recover data\n",
    "> Remember that Autoencoders are lossy compression which means you will never be able to full reconstruct that data"
   ]
  },
  {
   "cell_type": "code",
   "execution_count": 212,
   "metadata": {},
   "outputs": [
    {
     "name": "stdout",
     "output_type": "stream",
     "text": [
      "UNK the quick fox tall over lazy dog jumped brown from\n"
     ]
    }
   ],
   "source": [
    "sent = np.ndarray.tolist(test_data_compressed)[0]\n",
    "print(' '.join([reverse_vocabulary[i] if sent[i] == 1. else \"\" for i in range(len(sent))]))"
   ]
  },
  {
   "cell_type": "code",
   "execution_count": null,
   "metadata": {
    "collapsed": true
   },
   "outputs": [],
   "source": []
  }
 ],
 "metadata": {
  "anaconda-cloud": {},
  "kernelspec": {
   "display_name": "Python [conda root]",
   "language": "python",
   "name": "conda-root-py"
  },
  "language_info": {
   "codemirror_mode": {
    "name": "ipython",
    "version": 3
   },
   "file_extension": ".py",
   "mimetype": "text/x-python",
   "name": "python",
   "nbconvert_exporter": "python",
   "pygments_lexer": "ipython3",
   "version": "3.5.4"
  }
 },
 "nbformat": 4,
 "nbformat_minor": 2
}
